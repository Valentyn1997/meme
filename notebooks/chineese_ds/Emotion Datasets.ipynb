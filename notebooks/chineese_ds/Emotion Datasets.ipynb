{
 "cells": [
  {
   "cell_type": "code",
   "execution_count": 1,
   "metadata": {
    "collapsed": true
   },
   "outputs": [],
   "source": [
    "import json\n",
    "import urllib\n",
    "import csv\n",
    "import pandas as pd\n",
    "import numpy as np\n",
    "import matplotlib.pyplot as plt\n",
    "from numpy.linalg import inv"
   ]
  },
  {
   "cell_type": "code",
   "execution_count": 15,
   "metadata": {
    "collapsed": true
   },
   "outputs": [],
   "source": [
    "from translate import Translator"
   ]
  },
  {
   "cell_type": "markdown",
   "metadata": {},
   "source": [
    "0：Other\n",
    "\n",
    "1: Like\n",
    "\n",
    "2: Sadness\n",
    "\n",
    "3: Disgust\n",
    "\n",
    "4: Anger\n",
    "\n",
    "5: Happiness"
   ]
  },
  {
   "cell_type": "code",
   "execution_count": 3,
   "metadata": {},
   "outputs": [
    {
     "data": {
      "text/html": [
       "<div>\n",
       "<style>\n",
       "    .dataframe thead tr:only-child th {\n",
       "        text-align: right;\n",
       "    }\n",
       "\n",
       "    .dataframe thead th {\n",
       "        text-align: left;\n",
       "    }\n",
       "\n",
       "    .dataframe tbody tr th {\n",
       "        vertical-align: top;\n",
       "    }\n",
       "</style>\n",
       "<table border=\"1\" class=\"dataframe\">\n",
       "  <thead>\n",
       "    <tr style=\"text-align: right;\">\n",
       "      <th></th>\n",
       "      <th>0</th>\n",
       "      <th>1</th>\n",
       "      <th>2</th>\n",
       "    </tr>\n",
       "  </thead>\n",
       "  <tbody>\n",
       "    <tr>\n",
       "      <th>0</th>\n",
       "      <td>上 高铁 了 ， 在 最后 一 节 车厢 ， 心情 很 悲壮 ， 为什么 没有 安全带</td>\n",
       "      <td>2.0</td>\n",
       "      <td>High-speed rail, and in the last carriage, fee...</td>\n",
       "    </tr>\n",
       "    <tr>\n",
       "      <th>1</th>\n",
       "      <td>这 同学 真是 实在 人 啊 。</td>\n",
       "      <td>3.0</td>\n",
       "      <td>This is the students who really really ah.</td>\n",
       "    </tr>\n",
       "    <tr>\n",
       "      <th>2</th>\n",
       "      <td>谢谢 我 心目 中 最 优秀 的 乐队 ， 我们 不 离 不弃 ！</td>\n",
       "      <td>1.0</td>\n",
       "      <td>Thank you my best minds in the band, we do not...</td>\n",
       "    </tr>\n",
       "    <tr>\n",
       "      <th>3</th>\n",
       "      <td>尼玛 ， 建党 大爷 都 被 跌 透了 ！</td>\n",
       "      <td>4.0</td>\n",
       "      <td>Nima, founding uncle were down thoroughly!</td>\n",
       "    </tr>\n",
       "    <tr>\n",
       "      <th>4</th>\n",
       "      <td>所有 的 大学 老师们 都 应该 看看 介个 … … 真心 霸气 ！ 「 人人 网友 」</td>\n",
       "      <td>1.0</td>\n",
       "      <td>All university teachers should look mediated a...</td>\n",
       "    </tr>\n",
       "  </tbody>\n",
       "</table>\n",
       "</div>"
      ],
      "text/plain": [
       "                                              0    1  \\\n",
       "0   上 高铁 了 ， 在 最后 一 节 车厢 ， 心情 很 悲壮 ， 为什么 没有 安全带  2.0   \n",
       "1                              这 同学 真是 实在 人 啊 。  3.0   \n",
       "2             谢谢 我 心目 中 最 优秀 的 乐队 ， 我们 不 离 不弃 ！  1.0   \n",
       "3                         尼玛 ， 建党 大爷 都 被 跌 透了 ！  4.0   \n",
       "4  所有 的 大学 老师们 都 应该 看看 介个 … … 真心 霸气 ！ 「 人人 网友 」  1.0   \n",
       "\n",
       "                                                   2  \n",
       "0  High-speed rail, and in the last carriage, fee...  \n",
       "1         This is the students who really really ah.  \n",
       "2  Thank you my best minds in the band, we do not...  \n",
       "3         Nima, founding uncle were down thoroughly!  \n",
       "4  All university teachers should look mediated a...  "
      ]
     },
     "execution_count": 3,
     "metadata": {},
     "output_type": "execute_result"
    }
   ],
   "source": [
    "df = pd.read_csv(\"ecm_test_data_with_label_and_trans.csv\", header=None)\n",
    "df.head()"
   ]
  },
  {
   "cell_type": "code",
   "execution_count": 33,
   "metadata": {},
   "outputs": [
    {
     "data": {
      "text/plain": [
       "5418"
      ]
     },
     "execution_count": 33,
     "metadata": {},
     "output_type": "execute_result"
    }
   ],
   "source": [
    "len(df)"
   ]
  },
  {
   "cell_type": "code",
   "execution_count": 30,
   "metadata": {
    "scrolled": false
   },
   "outputs": [
    {
     "data": {
      "text/html": [
       "<div>\n",
       "<style>\n",
       "    .dataframe thead tr:only-child th {\n",
       "        text-align: right;\n",
       "    }\n",
       "\n",
       "    .dataframe thead th {\n",
       "        text-align: left;\n",
       "    }\n",
       "\n",
       "    .dataframe tbody tr th {\n",
       "        vertical-align: top;\n",
       "    }\n",
       "</style>\n",
       "<table border=\"1\" class=\"dataframe\">\n",
       "  <thead>\n",
       "    <tr style=\"text-align: right;\">\n",
       "      <th></th>\n",
       "      <th>1</th>\n",
       "      <th>2</th>\n",
       "    </tr>\n",
       "  </thead>\n",
       "  <tbody>\n",
       "    <tr>\n",
       "      <th>0</th>\n",
       "      <td>2.0</td>\n",
       "      <td>High-speed rail, and in the last carriage, feeling very tragic, why there is no seat belt</td>\n",
       "    </tr>\n",
       "    <tr>\n",
       "      <th>1</th>\n",
       "      <td>3.0</td>\n",
       "      <td>This is the students who really really ah.</td>\n",
       "    </tr>\n",
       "    <tr>\n",
       "      <th>2</th>\n",
       "      <td>1.0</td>\n",
       "      <td>Thank you my best minds in the band, we do not leave do not give up!</td>\n",
       "    </tr>\n",
       "    <tr>\n",
       "      <th>3</th>\n",
       "      <td>4.0</td>\n",
       "      <td>Nima, founding uncle were down thoroughly!</td>\n",
       "    </tr>\n",
       "    <tr>\n",
       "      <th>4</th>\n",
       "      <td>1.0</td>\n",
       "      <td>All university teachers should look mediated a ... ... really domineering! \"Everyone users\"</td>\n",
       "    </tr>\n",
       "    <tr>\n",
       "      <th>5</th>\n",
       "      <td>4.0</td>\n",
       "      <td>If you suspect your home network speed slow you can tune ah! Who stopped with you? 5 minutes to get.</td>\n",
       "    </tr>\n",
       "    <tr>\n",
       "      <th>6</th>\n",
       "      <td>0.0</td>\n",
       "      <td>Today, two years ago, on line 36 Krypton website.</td>\n",
       "    </tr>\n",
       "    <tr>\n",
       "      <th>7</th>\n",
       "      <td>1.0</td>\n",
       "      <td>Zhang shot from the side which really is too perfect. !</td>\n",
       "    </tr>\n",
       "    <tr>\n",
       "      <th>8</th>\n",
       "      <td>3.0</td>\n",
       "      <td>I do not scare you, poor air quality in Beijing at this time to maximize the (500), have possession of it?</td>\n",
       "    </tr>\n",
       "    <tr>\n",
       "      <th>9</th>\n",
       "      <td>1.0</td>\n",
       "      <td>Dedicated to all the children and grandmother have childhood!</td>\n",
       "    </tr>\n",
       "    <tr>\n",
       "      <th>10</th>\n",
       "      <td>1.0</td>\n",
       "      <td>Wuzhen go, do not go back to the bridge, stoned, in the south hookah.</td>\n",
       "    </tr>\n",
       "    <tr>\n",
       "      <th>11</th>\n",
       "      <td>1.0</td>\n",
       "      <td>If you sang daybreak, then also asks you to embrace the darkness. (BY Anonymous) Good morning, ladies.</td>\n",
       "    </tr>\n",
       "    <tr>\n",
       "      <th>12</th>\n",
       "      <td>3.0</td>\n",
       "      <td>The so-called garbage book, do not waste most textbooks do?</td>\n",
       "    </tr>\n",
       "    <tr>\n",
       "      <th>13</th>\n",
       "      <td>1.0</td>\n",
       "      <td>Thank you like my new avatar ... ah ...</td>\n",
       "    </tr>\n",
       "    <tr>\n",
       "      <th>14</th>\n",
       "      <td>0.0</td>\n",
       "      <td>Millet 2S # # exposed the real capacity, map with the truth!</td>\n",
       "    </tr>\n",
       "    <tr>\n",
       "      <th>15</th>\n",
       "      <td>0.0</td>\n",
       "      <td>[Psychological tests] you have to hide their degree of how deep?</td>\n",
       "    </tr>\n",
       "    <tr>\n",
       "      <th>16</th>\n",
       "      <td>3.0</td>\n",
       "      <td>Collecting [micro] Baidu search the Olympics bright. Do not believe you try! (Rpm)</td>\n",
       "    </tr>\n",
       "    <tr>\n",
       "      <th>17</th>\n",
       "      <td>0.0</td>\n",
       "      <td>\"Detective Summer Rock\" Benedict and \"Downton Abbey\" big cousin. !</td>\n",
       "    </tr>\n",
       "    <tr>\n",
       "      <th>18</th>\n",
       "      <td>3.0</td>\n",
       "      <td>You see, you are here and there here and there. Nima is a full fleshy, eat! Eat! (Rpm)</td>\n",
       "    </tr>\n",
       "    <tr>\n",
       "      <th>19</th>\n",
       "      <td>0.0</td>\n",
       "      <td>The family lit a stove incense, tea and other rain. Beijing, Beijing.</td>\n",
       "    </tr>\n",
       "    <tr>\n",
       "      <th>20</th>\n",
       "      <td>1.0</td>\n",
       "      <td>Yi Jing can really be a good kind of artist, speaking ability is very good.</td>\n",
       "    </tr>\n",
       "    <tr>\n",
       "      <th>21</th>\n",
       "      <td>3.0</td>\n",
       "      <td>Chinese men dream: either become a foreigner, or to marry a foreigner.</td>\n",
       "    </tr>\n",
       "    <tr>\n",
       "      <th>22</th>\n",
       "      <td>0.0</td>\n",
       "      <td>Hangzhou TV \"Pearl News\" reported that video on taxi services: alink</td>\n",
       "    </tr>\n",
       "    <tr>\n",
       "      <th>23</th>\n",
       "      <td>1.0</td>\n",
       "      <td>Annual best capture Dongbin drunk mention pot crushing force! (Rpm)</td>\n",
       "    </tr>\n",
       "    <tr>\n",
       "      <th>24</th>\n",
       "      <td>5.0</td>\n",
       "      <td>She started eating pieces of a large white rabbit, happy and retro.</td>\n",
       "    </tr>\n",
       "  </tbody>\n",
       "</table>\n",
       "</div>"
      ],
      "text/plain": [
       "      1  \\\n",
       "0   2.0   \n",
       "1   3.0   \n",
       "2   1.0   \n",
       "3   4.0   \n",
       "4   1.0   \n",
       "5   4.0   \n",
       "6   0.0   \n",
       "7   1.0   \n",
       "8   3.0   \n",
       "9   1.0   \n",
       "10  1.0   \n",
       "11  1.0   \n",
       "12  3.0   \n",
       "13  1.0   \n",
       "14  0.0   \n",
       "15  0.0   \n",
       "16  3.0   \n",
       "17  0.0   \n",
       "18  3.0   \n",
       "19  0.0   \n",
       "20  1.0   \n",
       "21  3.0   \n",
       "22  0.0   \n",
       "23  1.0   \n",
       "24  5.0   \n",
       "\n",
       "                                                                                                             2  \n",
       "0                    High-speed rail, and in the last carriage, feeling very tragic, why there is no seat belt  \n",
       "1                                                                   This is the students who really really ah.  \n",
       "2                                         Thank you my best minds in the band, we do not leave do not give up!  \n",
       "3                                                                   Nima, founding uncle were down thoroughly!  \n",
       "4                  All university teachers should look mediated a ... ... really domineering! \"Everyone users\"  \n",
       "5         If you suspect your home network speed slow you can tune ah! Who stopped with you? 5 minutes to get.  \n",
       "6                                                            Today, two years ago, on line 36 Krypton website.  \n",
       "7                                                      Zhang shot from the side which really is too perfect. !  \n",
       "8   I do not scare you, poor air quality in Beijing at this time to maximize the (500), have possession of it?  \n",
       "9                                                Dedicated to all the children and grandmother have childhood!  \n",
       "10                                       Wuzhen go, do not go back to the bridge, stoned, in the south hookah.  \n",
       "11      If you sang daybreak, then also asks you to embrace the darkness. (BY Anonymous) Good morning, ladies.  \n",
       "12                                                 The so-called garbage book, do not waste most textbooks do?  \n",
       "13                                                                     Thank you like my new avatar ... ah ...  \n",
       "14                                                Millet 2S # # exposed the real capacity, map with the truth!  \n",
       "15                                            [Psychological tests] you have to hide their degree of how deep?  \n",
       "16                          Collecting [micro] Baidu search the Olympics bright. Do not believe you try! (Rpm)  \n",
       "17                                          \"Detective Summer Rock\" Benedict and \"Downton Abbey\" big cousin. !  \n",
       "18                      You see, you are here and there here and there. Nima is a full fleshy, eat! Eat! (Rpm)  \n",
       "19                                       The family lit a stove incense, tea and other rain. Beijing, Beijing.  \n",
       "20                                 Yi Jing can really be a good kind of artist, speaking ability is very good.  \n",
       "21                                      Chinese men dream: either become a foreigner, or to marry a foreigner.  \n",
       "22                                        Hangzhou TV \"Pearl News\" reported that video on taxi services: alink  \n",
       "23                                         Annual best capture Dongbin drunk mention pot crushing force! (Rpm)  \n",
       "24                                         She started eating pieces of a large white rabbit, happy and retro.  "
      ]
     },
     "execution_count": 30,
     "metadata": {},
     "output_type": "execute_result"
    }
   ],
   "source": [
    "df_translated = df[[1, 2]]\n",
    "pd.set_option('max_colwidth', 150)\n",
    "df_translated.head(25)"
   ]
  },
  {
   "cell_type": "code",
   "execution_count": 4,
   "metadata": {
    "collapsed": true
   },
   "outputs": [],
   "source": [
    "with open('stc-3_emotion_train.json', encoding=\"utf-8\") as json_file:  \n",
    "    data = json.load(json_file)"
   ]
  },
  {
   "cell_type": "code",
   "execution_count": 7,
   "metadata": {
    "collapsed": true
   },
   "outputs": [],
   "source": [
    "entries = list()\n",
    "for i in data:\n",
    "    for j in i:\n",
    "        entries.append(j)"
   ]
  },
  {
   "cell_type": "code",
   "execution_count": 8,
   "metadata": {},
   "outputs": [
    {
     "data": {
      "text/plain": [
       "[['现在 刷 朋友 圈 最大 的 快乐 就是 看 代购 们 各种 直播 。 。 。 。 。', '5'],\n",
       " ['卧 槽 我 也 是', '4'],\n",
       " ['什么 时候 可以 一 觉 到 天亮 、', '0'],\n",
       " ['[ 可怜 ] 加油 ! ~ ~', '1'],\n",
       " ['1200   差点 永远 睡 在 跑道 上 阿   [ 泪 ]', '2'],\n",
       " ['为什么 跑 那么 多 ? 会 死 人 的 ! !', '4']]"
      ]
     },
     "execution_count": 8,
     "metadata": {},
     "output_type": "execute_result"
    }
   ],
   "source": [
    "entries[0:6]"
   ]
  },
  {
   "cell_type": "code",
   "execution_count": 44,
   "metadata": {
    "collapsed": true
   },
   "outputs": [],
   "source": [
    "df2 = pd.DataFrame(entries)"
   ]
  },
  {
   "cell_type": "code",
   "execution_count": 45,
   "metadata": {},
   "outputs": [
    {
     "data": {
      "text/plain": [
       "1200078"
      ]
     },
     "execution_count": 45,
     "metadata": {},
     "output_type": "execute_result"
    }
   ],
   "source": [
    "len(df2)"
   ]
  },
  {
   "cell_type": "code",
   "execution_count": 14,
   "metadata": {},
   "outputs": [],
   "source": [
    "df2.to_csv(path_or_buf=\"C:/Users/Di/Desktop/LMU_study/HCA/newfile.csv\", index=False, encoding=\"UTF-8\")"
   ]
  },
  {
   "cell_type": "code",
   "execution_count": 18,
   "metadata": {
    "scrolled": true
   },
   "outputs": [
    {
     "data": {
      "text/plain": [
       "'现在刷朋友圈最大的快乐就是看代购们'"
      ]
     },
     "execution_count": 18,
     "metadata": {},
     "output_type": "execute_result"
    }
   ],
   "source": [
    "translator= Translator(to_lang='zh')\n",
    "translator.translate('现在 刷 朋友 圈 最大 的 快乐 就是 看 代购 们')"
   ]
  },
  {
   "cell_type": "code",
   "execution_count": 34,
   "metadata": {},
   "outputs": [
    {
     "data": {
      "text/plain": [
       "'Now the biggest joy in brushing friends is to watch all kinds of live broadcasts. . . . .'"
      ]
     },
     "execution_count": 34,
     "metadata": {},
     "output_type": "execute_result"
    }
   ],
   "source": [
    "from googletrans import Translator\n",
    "translator = Translator()\n",
    "translator.translate(df_train[0][0]).text"
   ]
  },
  {
   "cell_type": "code",
   "execution_count": null,
   "metadata": {},
   "outputs": [],
   "source": [
    "from googletrans import Translator\n",
    "translator = Translator()\n",
    "translated = list()\n",
    "for i in df_train[0]:\n",
    "    translated.append(translator.translate(i))"
   ]
  }
 ],
 "metadata": {
  "kernelspec": {
   "display_name": "Python 3",
   "language": "python",
   "name": "python3"
  },
  "language_info": {
   "codemirror_mode": {
    "name": "ipython",
    "version": 3
   },
   "file_extension": ".py",
   "mimetype": "text/x-python",
   "name": "python",
   "nbconvert_exporter": "python",
   "pygments_lexer": "ipython3",
   "version": "3.6.1"
  }
 },
 "nbformat": 4,
 "nbformat_minor": 2
}
